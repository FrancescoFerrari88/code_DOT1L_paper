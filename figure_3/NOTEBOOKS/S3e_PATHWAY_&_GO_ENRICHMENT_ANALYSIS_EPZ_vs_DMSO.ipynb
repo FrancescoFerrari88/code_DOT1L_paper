{
 "cells": [
  {
   "cell_type": "code",
   "execution_count": null,
   "metadata": {},
   "outputs": [],
   "source": [
    "import pandas as pd\n",
    "import numpy as np\n",
    "import matplotlib.pyplot as plt\n",
    "import seaborn as sns\n",
    "import RELACS as rel\n",
    "sns.set_style(\"white\")\n",
    "sns.set_context(\"paper\")\n",
    "%load_ext rpy2.ipython\n",
    "%matplotlib inline"
   ]
  },
  {
   "cell_type": "code",
   "execution_count": 2,
   "metadata": {},
   "outputs": [
    {
     "name": "stderr",
     "output_type": "stream",
     "text": [
      "/home/ferrari/.local/lib/python3.6/site-packages/rpy2/rinterface/__init__.py:145: RRuntimeWarning: \n",
      "\n",
      "  warnings.warn(x, RRuntimeWarning)\n",
      "/home/ferrari/.local/lib/python3.6/site-packages/rpy2/rinterface/__init__.py:145: RRuntimeWarning: clusterProfiler v3.10.1  For help: https://guangchuangyu.github.io/software/clusterProfiler\n",
      "\n",
      "If you use clusterProfiler in published research, please cite:\n",
      "Guangchuang Yu, Li-Gen Wang, Yanyan Han, Qing-Yu He. clusterProfiler: an R package for comparing biological themes among gene clusters. OMICS: A Journal of Integrative Biology. 2012, 16(5):284-287.\n",
      "\n",
      "  warnings.warn(x, RRuntimeWarning)\n",
      "/home/ferrari/.local/lib/python3.6/site-packages/rpy2/rinterface/__init__.py:145: RRuntimeWarning: Loading required package: AnnotationDbi\n",
      "\n",
      "  warnings.warn(x, RRuntimeWarning)\n",
      "/home/ferrari/.local/lib/python3.6/site-packages/rpy2/rinterface/__init__.py:145: RRuntimeWarning: Loading required package: stats4\n",
      "\n",
      "  warnings.warn(x, RRuntimeWarning)\n",
      "/home/ferrari/.local/lib/python3.6/site-packages/rpy2/rinterface/__init__.py:145: RRuntimeWarning: Loading required package: BiocGenerics\n",
      "\n",
      "  warnings.warn(x, RRuntimeWarning)\n",
      "/home/ferrari/.local/lib/python3.6/site-packages/rpy2/rinterface/__init__.py:145: RRuntimeWarning: Loading required package: parallel\n",
      "\n",
      "  warnings.warn(x, RRuntimeWarning)\n",
      "/home/ferrari/.local/lib/python3.6/site-packages/rpy2/rinterface/__init__.py:145: RRuntimeWarning: \n",
      "Attaching package: ‘BiocGenerics’\n",
      "\n",
      "\n",
      "  warnings.warn(x, RRuntimeWarning)\n",
      "/home/ferrari/.local/lib/python3.6/site-packages/rpy2/rinterface/__init__.py:145: RRuntimeWarning: The following objects are masked from ‘package:parallel’:\n",
      "\n",
      "    clusterApply, clusterApplyLB, clusterCall, clusterEvalQ,\n",
      "    clusterExport, clusterMap, parApply, parCapply, parLapply,\n",
      "    parLapplyLB, parRapply, parSapply, parSapplyLB\n",
      "\n",
      "\n",
      "  warnings.warn(x, RRuntimeWarning)\n",
      "/home/ferrari/.local/lib/python3.6/site-packages/rpy2/rinterface/__init__.py:145: RRuntimeWarning: The following objects are masked from ‘package:stats’:\n",
      "\n",
      "    IQR, mad, sd, var, xtabs\n",
      "\n",
      "\n",
      "  warnings.warn(x, RRuntimeWarning)\n",
      "/home/ferrari/.local/lib/python3.6/site-packages/rpy2/rinterface/__init__.py:145: RRuntimeWarning: The following objects are masked from ‘package:base’:\n",
      "\n",
      "    anyDuplicated, append, as.data.frame, basename, cbind, colMeans,\n",
      "    colnames, colSums, dirname, do.call, duplicated, eval, evalq,\n",
      "    Filter, Find, get, grep, grepl, intersect, is.unsorted, lapply,\n",
      "    lengths, Map, mapply, match, mget, order, paste, pmax, pmax.int,\n",
      "    pmin, pmin.int, Position, rank, rbind, Reduce, rowMeans, rownames,\n",
      "    rowSums, sapply, setdiff, sort, table, tapply, union, unique,\n",
      "    unsplit, which, which.max, which.min\n",
      "\n",
      "\n",
      "  warnings.warn(x, RRuntimeWarning)\n",
      "/home/ferrari/.local/lib/python3.6/site-packages/rpy2/rinterface/__init__.py:145: RRuntimeWarning: Loading required package: Biobase\n",
      "\n",
      "  warnings.warn(x, RRuntimeWarning)\n",
      "/home/ferrari/.local/lib/python3.6/site-packages/rpy2/rinterface/__init__.py:145: RRuntimeWarning: Welcome to Bioconductor\n",
      "\n",
      "    Vignettes contain introductory material; view with\n",
      "    'browseVignettes()'. To cite Bioconductor, see\n",
      "    'citation(\"Biobase\")', and for packages 'citation(\"pkgname\")'.\n",
      "\n",
      "\n",
      "  warnings.warn(x, RRuntimeWarning)\n",
      "/home/ferrari/.local/lib/python3.6/site-packages/rpy2/rinterface/__init__.py:145: RRuntimeWarning: Loading required package: IRanges\n",
      "\n",
      "  warnings.warn(x, RRuntimeWarning)\n",
      "/home/ferrari/.local/lib/python3.6/site-packages/rpy2/rinterface/__init__.py:145: RRuntimeWarning: Loading required package: S4Vectors\n",
      "\n",
      "  warnings.warn(x, RRuntimeWarning)\n",
      "/home/ferrari/.local/lib/python3.6/site-packages/rpy2/rinterface/__init__.py:145: RRuntimeWarning: \n",
      "Attaching package: ‘S4Vectors’\n",
      "\n",
      "\n",
      "  warnings.warn(x, RRuntimeWarning)\n",
      "/home/ferrari/.local/lib/python3.6/site-packages/rpy2/rinterface/__init__.py:145: RRuntimeWarning: The following object is masked from ‘package:base’:\n",
      "\n",
      "    expand.grid\n",
      "\n",
      "\n",
      "  warnings.warn(x, RRuntimeWarning)\n",
      "/home/ferrari/.local/lib/python3.6/site-packages/rpy2/rinterface/__init__.py:145: RRuntimeWarning: \n",
      "Attaching package: ‘dplyr’\n",
      "\n",
      "\n",
      "  warnings.warn(x, RRuntimeWarning)\n",
      "/home/ferrari/.local/lib/python3.6/site-packages/rpy2/rinterface/__init__.py:145: RRuntimeWarning: The following object is masked from ‘package:AnnotationDbi’:\n",
      "\n",
      "    select\n",
      "\n",
      "\n",
      "  warnings.warn(x, RRuntimeWarning)\n",
      "/home/ferrari/.local/lib/python3.6/site-packages/rpy2/rinterface/__init__.py:145: RRuntimeWarning: The following objects are masked from ‘package:IRanges’:\n",
      "\n",
      "    collapse, desc, intersect, setdiff, slice, union\n",
      "\n",
      "\n",
      "  warnings.warn(x, RRuntimeWarning)\n",
      "/home/ferrari/.local/lib/python3.6/site-packages/rpy2/rinterface/__init__.py:145: RRuntimeWarning: The following objects are masked from ‘package:S4Vectors’:\n",
      "\n",
      "    first, intersect, rename, setdiff, setequal, union\n",
      "\n",
      "\n",
      "  warnings.warn(x, RRuntimeWarning)\n",
      "/home/ferrari/.local/lib/python3.6/site-packages/rpy2/rinterface/__init__.py:145: RRuntimeWarning: The following object is masked from ‘package:Biobase’:\n",
      "\n",
      "    combine\n",
      "\n",
      "\n",
      "  warnings.warn(x, RRuntimeWarning)\n",
      "/home/ferrari/.local/lib/python3.6/site-packages/rpy2/rinterface/__init__.py:145: RRuntimeWarning: The following objects are masked from ‘package:BiocGenerics’:\n",
      "\n",
      "    combine, intersect, setdiff, union\n",
      "\n",
      "\n",
      "  warnings.warn(x, RRuntimeWarning)\n",
      "/home/ferrari/.local/lib/python3.6/site-packages/rpy2/rinterface/__init__.py:145: RRuntimeWarning: The following objects are masked from ‘package:stats’:\n",
      "\n",
      "    filter, lag\n",
      "\n",
      "\n",
      "  warnings.warn(x, RRuntimeWarning)\n",
      "/home/ferrari/.local/lib/python3.6/site-packages/rpy2/rinterface/__init__.py:145: RRuntimeWarning: The following objects are masked from ‘package:base’:\n",
      "\n",
      "    intersect, setdiff, setequal, union\n",
      "\n",
      "\n",
      "  warnings.warn(x, RRuntimeWarning)\n",
      "/home/ferrari/.local/lib/python3.6/site-packages/rpy2/rinterface/__init__.py:145: RRuntimeWarning: 'select()' returned 1:many mapping between keys and columns\n",
      "\n",
      "  warnings.warn(x, RRuntimeWarning)\n",
      "/home/ferrari/.local/lib/python3.6/site-packages/rpy2/rinterface/__init__.py:145: RRuntimeWarning: 'select()' returned 1:1 mapping between keys and columns\n",
      "\n",
      "  warnings.warn(x, RRuntimeWarning)\n"
     ]
    }
   ],
   "source": [
    "%%R\n",
    "\n",
    "                                    #########################################\n",
    "                                    #### GO TERM OVER-REPRESENTATION TEST ###\n",
    "                                    #########################################\n",
    "\n",
    "### LOAD PACKAGES ###\n",
    "library(clusterProfiler)\n",
    "library(org.Mm.eg.db)\n",
    "library(dplyr)\n",
    "library(dplyr)\n",
    "\n",
    "\n",
    "\n",
    "### LOAD DIFFERENTIAL EXPRESSION ANALYSIS RESULTS ###\n",
    "esc_de = read.csv(\"../INTERMEDIATE_FILES/DE_genes_shrinked_apeglm_mESC_EPZvsDMSO.tsv\", sep=\"\\t\")\n",
    "row.names(esc_de) = gsub(\"\\\\.[0-9]+\",\"\",row.names(esc_de))\n",
    "\n",
    "npc_de = read.csv(\"../INTERMEDIATE_FILES/DE_genes_shrinked_apeglm_NPC48h_EPZvsDMSO.tsv\", sep=\"\\t\")\n",
    "row.names(npc_de) = gsub(\"\\\\.[0-9]+\",\"\",row.names(npc_de))\n",
    "\n",
    "\n",
    "### SELECT UP-REGULATED AND DOWN-REGULATED GENES FOR EACH \n",
    "esc_up = row.names(na.omit(esc_de[(esc_de$padj < 0.05) & (esc_de$log2FoldChange > 0), ]))\n",
    "esc_down = row.names(na.omit(esc_de[(esc_de$padj < 0.05) & (esc_de$log2FoldChange < 0), ]))\n",
    "\n",
    "npc_up = row.names(na.omit(npc_de[(npc_de$padj < 0.1) & (npc_de$log2FoldChange > 0), ]))\n",
    "npc_down = row.names(na.omit(npc_de[(npc_de$padj < 0.1) & (npc_de$log2FoldChange < 0), ]))\n",
    "\n",
    "\n",
    "### TRANSLATE GENE ID TO ENTREZ ID ###\n",
    "esc_up_tr = bitr(esc_up, fromType=\"ENSEMBL\", toType=c(\"ENTREZID\",\"ENSEMBL\",\"SYMBOL\"), OrgDb=\"org.Mm.eg.db\")\n",
    "esc_down_tr = bitr(esc_down, fromType=\"ENSEMBL\", toType=c(\"ENTREZID\",\"ENSEMBL\",\"SYMBOL\"), OrgDb=\"org.Mm.eg.db\")\n",
    "uni_esc = bitr(row.names(na.omit(esc_de)), fromType=\"ENSEMBL\", toType=c(\"ENTREZID\",\"ENSEMBL\",\"SYMBOL\"), OrgDb=\"org.Mm.eg.db\")\n",
    "\n",
    "npc_up_tr = bitr(npc_up, fromType=\"ENSEMBL\", toType=c(\"ENTREZID\",\"ENSEMBL\",\"SYMBOL\"), OrgDb=\"org.Mm.eg.db\")\n",
    "npc_down_tr = bitr(npc_down, fromType=\"ENSEMBL\", toType=c(\"ENTREZID\",\"ENSEMBL\",\"SYMBOL\"), OrgDb=\"org.Mm.eg.db\")\n",
    "uni_npc = bitr(row.names(na.omit(npc_de)), fromType=\"ENSEMBL\", toType=c(\"ENTREZID\",\"ENSEMBL\",\"SYMBOL\"), OrgDb=\"org.Mm.eg.db\")\n"
   ]
  },
  {
   "cell_type": "code",
   "execution_count": 16,
   "metadata": {},
   "outputs": [],
   "source": [
    "%%R\n",
    "\n",
    "### PERFORM OVER-REPRESENTATION TEST FOR mESC ###\n",
    "list_def_esc = list(deg_up = esc_up_tr$ENTREZID, deg_down = esc_down_tr$ENTREZID)\n",
    "\n",
    "ck_esc <- compareCluster(geneCluster = list_def_esc,\n",
    "                     universe = uni_esc$ENTREZID,\n",
    "                     fun = \"enrichGO\",\n",
    "                     OrgDb = \"org.Mm.eg.db\",\n",
    "                     ont = \"BP\",\n",
    "                     pAdjustMethod = \"BH\",\n",
    "                     qvalueCutoff = 0.05,\n",
    "                     pvalueCutoff = 0.05,\n",
    "                     readable = TRUE)\n",
    "\n",
    "df_ck_esc = as.data.frame(ck_esc)"
   ]
  },
  {
   "cell_type": "code",
   "execution_count": 38,
   "metadata": {},
   "outputs": [],
   "source": [
    "%%R\n",
    "\n",
    "### PERFORM OVER-REPRESENTATION TEST FOR NPC48h ###\n",
    "list_def_npc = list(deg_up = npc_up_tr$ENTREZID, deg_down = npc_down_tr$ENTREZID)\n",
    "\n",
    "ck_npc <- compareCluster(geneCluster = list_def_npc,\n",
    "                     universe = uni_npc$ENTREZID,\n",
    "                     fun = \"enrichGO\",\n",
    "                     OrgDb = \"org.Mm.eg.db\",\n",
    "                     ont = \"BP\",\n",
    "                     pAdjustMethod = \"BH\",\n",
    "                     qvalueCutoff = 0.05,\n",
    "                     pvalueCutoff = 0.05,\n",
    "                     readable = TRUE)\n",
    "\n",
    "df_ck_npc = as.data.frame(ck_npc)"
   ]
  },
  {
   "cell_type": "code",
   "execution_count": 25,
   "metadata": {},
   "outputs": [
    {
     "data": {
      "text/plain": [
       "png \n",
       "  2 \n"
      ]
     },
     "metadata": {},
     "output_type": "display_data"
    }
   ],
   "source": [
    "%%R\n",
    "pdf(\"../FIGURES/GO_mESC_EPZvsDMSO_compareClusters.pdf\", width=7.5,height=5)\n",
    "p = dotplot(ck_esc, showCategory=10)\n",
    "print(p)\n",
    "dev.off()"
   ]
  },
  {
   "cell_type": "code",
   "execution_count": 39,
   "metadata": {},
   "outputs": [
    {
     "data": {
      "text/plain": [
       "png \n",
       "  2 \n"
      ]
     },
     "metadata": {},
     "output_type": "display_data"
    }
   ],
   "source": [
    "%%R\n",
    "pdf(\"../FIGURES/GO_NPC48h_EPZvsDMSO_compareClusters.pdf\", width=7.5,height=5)\n",
    "p = dotplot(ck_npc, showCategory=10)\n",
    "print(p)\n",
    "dev.off()"
   ]
  },
  {
   "cell_type": "code",
   "execution_count": 22,
   "metadata": {},
   "outputs": [],
   "source": [
    "%%R\n",
    "\n",
    "### GSEA WIKIPATHWAY mESC ###\n",
    "\n",
    "## PREPARE DATA ##\n",
    "\n",
    "esc_de$GeneID = rownames(esc_de)\n",
    "universe = bitr(row.names(esc_de), fromType=\"ENSEMBL\", toType=c(\"ENTREZID\",\"ENSEMBL\",\"SYMBOL\"), OrgDb=\"org.Mm.eg.db\")\n",
    "universe  = merge(as.data.frame(universe),as.data.frame(esc_de), by.x = \"ENSEMBL\", by.y = \"GeneID\")\n",
    "universe = universe[!is.na(universe$log2FoldChange),]\n",
    "universe = universe[!duplicated(universe$ENTREZID), ]\n",
    "universe = universe[order(universe$log2FoldChange, decreasing = TRUE), ]\n",
    "\n",
    "geneList_ESC = universe$log2FoldChange\n",
    "names(geneList_ESC) = universe$ENTREZID\n"
   ]
  },
  {
   "cell_type": "code",
   "execution_count": 25,
   "metadata": {},
   "outputs": [],
   "source": [
    "%%R\n",
    "\n",
    "### GSEA WIKIPATHWAY mESC ###\n",
    "\n",
    "wp2gene = read.csv(\"/data/manke/group/shiny/ferrari/Genes2Functions/shared_files/wikipath_mouse.gmt\",sep=\"\\t\")\n",
    "wp2gene = na.omit(wp2gene)\n",
    "      \n",
    "wp2gene <- wp2gene %>% tidyr::separate(ont, c(\"name\",\"version\",\"wpid\",\"org\"), \"%\")\n",
    "wpid2gene <- wp2gene %>% dplyr::select(wpid, gene) #TERM2GENE\n",
    "wpid2name <- wp2gene %>% dplyr::select(wpid, name) #TERM2NAME\n",
    "\n",
    "ewp_esc <- GSEA(geneList_ESC, \n",
    "                   pvalueCutoff = 0.05,\n",
    "                   pAdjustMethod =\"BH\",\n",
    "                   TERM2GENE = wpid2gene, \n",
    "                   TERM2NAME = wpid2name, \n",
    "                   minGSSize    = 20,\n",
    "                   maxGSSize    = 700,\n",
    "                   nPerm = 10000,\n",
    "                   verbose=FALSE)\n",
    "\n",
    "ewp_esc_read <- setReadable(ewp_esc, \"org.Mm.eg.db\", keyType = \"ENTREZID\")\n",
    "ewp_esc_df = as.data.frame(ewp_esc_read)\n",
    "write.table(ewp_esc_df,\"../INTERMEDIATE_FILES/pathway_mESC_EPZvsDMSO.tsv\", sep=\"\\t\",quote=F)\n"
   ]
  },
  {
   "cell_type": "code",
   "execution_count": 26,
   "metadata": {},
   "outputs": [
    {
     "name": "stderr",
     "output_type": "stream",
     "text": [
      "/home/ferrari/.local/lib/python3.6/site-packages/rpy2/rinterface/__init__.py:145: RRuntimeWarning: Picking joint bandwidth of 0.0552\n",
      "\n",
      "  warnings.warn(x, RRuntimeWarning)\n"
     ]
    },
    {
     "data": {
      "text/plain": [
       "png \n",
       "  2 \n"
      ]
     },
     "metadata": {},
     "output_type": "display_data"
    }
   ],
   "source": [
    "%%R\n",
    "\n",
    "pdf(\"../FIGURES/GSEA_ESC_EPZvsDMSO_WIKIPATHWAY.pdf\", width=10,height=5)\n",
    "p = ridgeplot(ewp_esc, showCategory=15)\n",
    "print(p)\n",
    "dev.off()"
   ]
  },
  {
   "cell_type": "code",
   "execution_count": 4,
   "metadata": {},
   "outputs": [
    {
     "name": "stderr",
     "output_type": "stream",
     "text": [
      "/home/ferrari/.local/lib/python3.6/site-packages/rpy2/rinterface/__init__.py:145: RRuntimeWarning: 'select()' returned 1:many mapping between keys and columns\n",
      "\n",
      "  warnings.warn(x, RRuntimeWarning)\n"
     ]
    }
   ],
   "source": [
    "%%R\n",
    "\n",
    "### GSEA WIKIPATHWAY NPC48h ###\n",
    "\n",
    "## PREPARE DATA ##\n",
    "\n",
    "npc_de$GeneID = rownames(npc_de)\n",
    "universe = bitr(row.names(npc_de), fromType=\"ENSEMBL\", toType=c(\"ENTREZID\",\"ENSEMBL\",\"SYMBOL\"), OrgDb=\"org.Mm.eg.db\")\n",
    "universe  = merge(as.data.frame(universe),as.data.frame(npc_de), by.x = \"ENSEMBL\", by.y = \"GeneID\")\n",
    "universe = universe[!is.na(universe$log2FoldChange),]\n",
    "universe = universe[!duplicated(universe$ENTREZID), ]\n",
    "universe = universe[order(universe$log2FoldChange, decreasing = TRUE), ]\n",
    "\n",
    "geneList_NPC = universe$log2FoldChange\n",
    "names(geneList_NPC) = universe$ENTREZID\n"
   ]
  },
  {
   "cell_type": "code",
   "execution_count": 6,
   "metadata": {},
   "outputs": [],
   "source": [
    "%%R\n",
    "\n",
    "### GSEA WIKIPATHWAY NPC48h ###\n",
    "\n",
    "wp2gene = read.csv(\"/data/manke/group/shiny/ferrari/Genes2Functions/shared_files/wikipath_mouse.gmt\",sep=\"\\t\")\n",
    "wp2gene = na.omit(wp2gene)\n",
    "      \n",
    "wp2gene <- wp2gene %>% tidyr::separate(ont, c(\"name\",\"version\",\"wpid\",\"org\"), \"%\")\n",
    "wpid2gene <- wp2gene %>% dplyr::select(wpid, gene) #TERM2GENE\n",
    "wpid2name <- wp2gene %>% dplyr::select(wpid, name) #TERM2NAME\n",
    "\n",
    "ewp2 <- GSEA(geneList_NPC, \n",
    "                   pvalueCutoff = 0.05,\n",
    "                   pAdjustMethod =\"BH\",\n",
    "                   TERM2GENE = wpid2gene, \n",
    "                   TERM2NAME = wpid2name, \n",
    "                   minGSSize    = 20,\n",
    "                   maxGSSize    = 700,\n",
    "                   nPerm = 10000,\n",
    "                   verbose=FALSE)\n",
    "ewp_read <- setReadable(ewp2, \"org.Mm.eg.db\", keyType = \"ENTREZID\")\n",
    "\n",
    "ewp2_df = as.data.frame(ewp_read)\n",
    "write.table(ewp2_df,\"../INTERMEDIATE_FILES/pathway_NPC48h_EPZvsDMSO.tsv\", sep=\"\\t\",quote=F)\n"
   ]
  },
  {
   "cell_type": "code",
   "execution_count": 28,
   "metadata": {},
   "outputs": [
    {
     "name": "stderr",
     "output_type": "stream",
     "text": [
      "/home/ferrari/.local/lib/python3.6/site-packages/rpy2/rinterface/__init__.py:145: RRuntimeWarning: Picking joint bandwidth of 0.0335\n",
      "\n",
      "  warnings.warn(x, RRuntimeWarning)\n"
     ]
    },
    {
     "data": {
      "text/plain": [
       "png \n",
       "  2 \n"
      ]
     },
     "metadata": {},
     "output_type": "display_data"
    }
   ],
   "source": [
    "%%R\n",
    "\n",
    "pdf(\"../FIGURES/GSEA_NPC48h_EPZvsDMSO_WIKIPATHWAY.pdf\", width=7,height=5)\n",
    "p = ridgeplot(ewp2, showCategory=15)\n",
    "print(p)\n",
    "dev.off()"
   ]
  },
  {
   "cell_type": "code",
   "execution_count": null,
   "metadata": {},
   "outputs": [],
   "source": []
  }
 ],
 "metadata": {
  "kernelspec": {
   "display_name": " Python 3.6 ipython@maximus (MPI-IE)",
   "language": "",
   "name": "rik_ssh_maximus_python36ipythonmaximusmpiie"
  },
  "language_info": {
   "codemirror_mode": {
    "name": "ipython",
    "version": 3
   },
   "file_extension": ".py",
   "mimetype": "text/x-python",
   "name": "python",
   "nbconvert_exporter": "python",
   "pygments_lexer": "ipython3",
   "version": "3.6.7"
  }
 },
 "nbformat": 4,
 "nbformat_minor": 2
}
