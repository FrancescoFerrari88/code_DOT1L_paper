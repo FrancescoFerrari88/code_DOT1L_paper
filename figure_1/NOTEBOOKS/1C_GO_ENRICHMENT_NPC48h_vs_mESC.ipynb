{
 "cells": [
  {
   "cell_type": "code",
   "execution_count": 1,
   "metadata": {},
   "outputs": [],
   "source": [
    "%load_ext rpy2.ipython"
   ]
  },
  {
   "cell_type": "code",
   "execution_count": 80,
   "metadata": {
    "scrolled": false
   },
   "outputs": [],
   "source": [
    "%%R -o df_ck\n",
    "\n",
    "# lib_ = \"/home/ferrari/R/x86_64-redhat-linux-gnu-library/3.5\"\n",
    "\n",
    "library(clusterProfiler)\n",
    "library(org.Mm.eg.db)\n",
    "\n",
    "deg = read.table(\"../DATA/DE_genes_withLFCthr1_mESCvsNPC48h.tsv\", sep=\"\\t\", )\n",
    "row.names(deg) = gsub(\"\\\\.[0-9]+\",\"\",row.names(deg))\n",
    "head(deg, n=100)\n",
    "deg_up = unique(row.names(deg[(deg$padj<0.01) & (deg$log2FoldChange>0),]))\n",
    "deg_down = unique(row.names(deg[(deg$padj<0.01) & (deg$log2FoldChange<0),]))\n",
    "\n",
    "universe_ = unique(row.names(deg))\n",
    "\n",
    "### TRANSLATE ENSEMBLE TO ENTREZ AND SYMBOLS\n",
    "\n",
    "up = bitr(deg_up, fromType=\"ENSEMBL\", toType=c(\"ENTREZID\",\"ENSEMBL\",\"SYMBOL\"), OrgDb=\"org.Mm.eg.db\")\n",
    "down = bitr(deg_down, fromType=\"ENSEMBL\", toType=c(\"ENTREZID\",\"ENSEMBL\",\"SYMBOL\"), OrgDb=\"org.Mm.eg.db\")\n",
    "\n",
    "universe = bitr(universe_, fromType=\"ENSEMBL\", toType=c(\"ENTREZID\",\"ENSEMBL\",\"SYMBOL\"), OrgDb=\"org.Mm.eg.db\")\n",
    "\n",
    "list_def = list(deg_up = up$ENTREZID, deg_down = down$ENTREZID)\n",
    "# # list_def\n",
    "ck <- compareCluster(geneCluster = list_def,\n",
    "                     universe = universe$ENTREZID,\n",
    "                     fun = \"enrichGO\",\n",
    "                     OrgDb = \"org.Mm.eg.db\",\n",
    "                     ont = \"BP\",\n",
    "                     pAdjustMethod = \"BH\",\n",
    "                     qvalueCutoff = 0.05,\n",
    "                     pvalueCutoff = 0.05,\n",
    "                     readable = TRUE)\n",
    "\n",
    "df_ck = as.data.frame(ck)\n"
   ]
  },
  {
   "cell_type": "code",
   "execution_count": 84,
   "metadata": {},
   "outputs": [
    {
     "data": {
      "text/plain": [
       "png \n",
       "  2 \n"
      ]
     },
     "metadata": {},
     "output_type": "display_data"
    }
   ],
   "source": [
    "%%R\n",
    "ck_filt = gofilter(ck)\n",
    "pdf(\"../FIGURES/GO_ENRICHMENT_NPC48h_vs_mESC.pdf\", width=8, height=5)\n",
    "dp = dotplot(ck_filt, showCategory=10)\n",
    "print(dp)\n",
    "dev.off()"
   ]
  },
  {
   "cell_type": "code",
   "execution_count": null,
   "metadata": {},
   "outputs": [],
   "source": []
  }
 ],
 "metadata": {
  "kernelspec": {
   "display_name": " Python 3.6 ipython@maximus (MPI-IE)",
   "language": "",
   "name": "rik_ssh_maximus_python36ipythonmaximusmpiie"
  },
  "language_info": {
   "codemirror_mode": {
    "name": "ipython",
    "version": 3
   },
   "file_extension": ".py",
   "mimetype": "text/x-python",
   "name": "python",
   "nbconvert_exporter": "python",
   "pygments_lexer": "ipython3",
   "version": "3.6.7"
  }
 },
 "nbformat": 4,
 "nbformat_minor": 2
}
